{
  "cells": [
    {
      "cell_type": "markdown",
      "metadata": {
        "id": "view-in-github",
        "colab_type": "text"
      },
      "source": [
        "<a href=\"https://colab.research.google.com/github/SASD01/ComputerVision/blob/main/Artificial_Intelligence.ipynb\" target=\"_parent\"><img src=\"https://colab.research.google.com/assets/colab-badge.svg\" alt=\"Open In Colab\"/></a>"
      ]
    },
    {
      "cell_type": "markdown",
      "source": [
        "**ARTIFICIAL INTELLIGENCE - OBJECTS DETECTION**"
      ],
      "metadata": {
        "id": "mi6P3RrIy5if"
      }
    },
    {
      "cell_type": "markdown",
      "source": [
        "# **Setup and Load Data**"
      ],
      "metadata": {
        "id": "L9J8M5zv3fGW"
      }
    },
    {
      "cell_type": "code",
      "source": [
        "#Unzip data - images.\n",
        "!unzip -q /content/data.zip -d /content/"
      ],
      "metadata": {
        "id": "CjZV5ksn3r0e"
      },
      "execution_count": null,
      "outputs": []
    },
    {
      "cell_type": "markdown",
      "source": [
        "# **Python Libraries**"
      ],
      "metadata": {
        "id": "RY6TKbaP5SCW"
      }
    },
    {
      "cell_type": "code",
      "source": [
        "import numpy as np\n",
        "import cv2\n",
        "#YoloV5 - Custom Training. (Extracted from the official web page)\n",
        "!git clone https://github.com/ultralytics/yolov5 \n",
        "%cd yolov5\n",
        "%pip install -qr requirements.txt #Install dependencies.\n",
        "%pip install -q roboflow \n",
        "import torch \n",
        "import os \n",
        "from IPython.display import Image, clear_output"
      ],
      "metadata": {
        "colab": {
          "base_uri": "https://localhost:8080/"
        },
        "id": "KbHrd-LV5XAF",
        "outputId": "1b8cc604-c2c3-45a7-e32f-d77c025aa3d9"
      },
      "execution_count": null,
      "outputs": [
        {
          "output_type": "stream",
          "name": "stdout",
          "text": [
            "Cloning into 'yolov5'...\n",
            "remote: Enumerating objects: 14302, done.\u001b[K\n",
            "remote: Counting objects: 100% (56/56), done.\u001b[K\n",
            "remote: Compressing objects: 100% (38/38), done.\u001b[K\n",
            "remote: Total 14302 (delta 26), reused 38 (delta 18), pack-reused 14246\u001b[K\n",
            "Receiving objects: 100% (14302/14302), 13.63 MiB | 7.31 MiB/s, done.\n",
            "Resolving deltas: 100% (9829/9829), done.\n",
            "/content/yolov5/yolov5\n"
          ]
        }
      ]
    },
    {
      "cell_type": "markdown",
      "source": [
        "#**Data Training**"
      ],
      "metadata": {
        "id": "VqJA6Lzt-x8K"
      }
    },
    {
      "cell_type": "code",
      "source": [
        "!python train.py --img 640 --batch 4 --epochs 55 --data /content/yolov5/data/product.yaml --weights yolov5x.pt --cache"
      ],
      "metadata": {
        "colab": {
          "base_uri": "https://localhost:8080/"
        },
        "id": "0LSdM7P6AGnl",
        "outputId": "d1db921f-aa3a-4445-d436-504238201885"
      },
      "execution_count": null,
      "outputs": [
        {
          "output_type": "stream",
          "name": "stdout",
          "text": [
            "\u001b[34m\u001b[1mtrain: \u001b[0mweights=yolov5x.pt, cfg=, data=/content/yolov5/data/product.yaml, hyp=data/hyps/hyp.scratch-low.yaml, epochs=55, batch_size=4, imgsz=640, rect=False, resume=False, nosave=False, noval=False, noautoanchor=False, noplots=False, evolve=None, bucket=, cache=ram, image_weights=False, device=, multi_scale=False, single_cls=False, optimizer=SGD, sync_bn=False, workers=8, project=runs/train, name=exp, exist_ok=False, quad=False, cos_lr=False, label_smoothing=0.0, patience=100, freeze=[0], save_period=-1, seed=0, local_rank=-1, entity=None, upload_dataset=False, bbox_interval=-1, artifact_alias=latest\n",
            "\u001b[34m\u001b[1mgithub: \u001b[0mup to date with https://github.com/ultralytics/yolov5 ✅\n",
            "YOLOv5 🚀 v7.0-18-gd7955fe Python-3.8.15 torch-1.12.1+cu113 CUDA:0 (Tesla T4, 15110MiB)\n",
            "\n",
            "\u001b[34m\u001b[1mhyperparameters: \u001b[0mlr0=0.01, lrf=0.01, momentum=0.937, weight_decay=0.0005, warmup_epochs=3.0, warmup_momentum=0.8, warmup_bias_lr=0.1, box=0.05, cls=0.5, cls_pw=1.0, obj=1.0, obj_pw=1.0, iou_t=0.2, anchor_t=4.0, fl_gamma=0.0, hsv_h=0.015, hsv_s=0.7, hsv_v=0.4, degrees=0.0, translate=0.1, scale=0.5, shear=0.0, perspective=0.0, flipud=0.0, fliplr=0.5, mosaic=1.0, mixup=0.0, copy_paste=0.0\n",
            "\u001b[34m\u001b[1mClearML: \u001b[0mrun 'pip install clearml' to automatically track, visualize and remotely train YOLOv5 🚀 in ClearML\n",
            "\u001b[34m\u001b[1mComet: \u001b[0mrun 'pip install comet_ml' to automatically track and visualize YOLOv5 🚀 runs in Comet\n",
            "\u001b[34m\u001b[1mTensorBoard: \u001b[0mStart with 'tensorboard --logdir runs/train', view at http://localhost:6006/\n",
            "\n",
            "Dataset not found ⚠️, missing paths ['/content/yolov5/yolov5/content/data/images/examples']\n",
            "Downloading https://github.com/ultralytics/yolov5/releases/download/v1.0/coco2017labels.zip to /content/yolov5/coco2017labels.zip...\n",
            "100% 46.4M/46.4M [00:00<00:00, 290MB/s]\n",
            "Unzipping /content/yolov5/coco2017labels.zip...\n",
            "Downloading http://images.cocodataset.org/zips/test2017.zip to /content/yolov5/yolov5/images/test2017.zip...\n",
            "Downloading http://images.cocodataset.org/zips/val2017.zip to /content/yolov5/yolov5/images/val2017.zip...\n",
            "Unzipping /content/yolov5/yolov5/images/val2017.zip...\n",
            "Unzipping /content/yolov5/yolov5/images/test2017.zip...\n",
            "Dataset download success ✅ (263.9s), saved to \u001b[1m/content/yolov5/datasets\u001b[0m\n",
            "Overriding model.yaml nc=80 with nc=33\n",
            "\n",
            "                 from  n    params  module                                  arguments                     \n",
            "  0                -1  1      8800  models.common.Conv                      [3, 80, 6, 2, 2]              \n",
            "  1                -1  1    115520  models.common.Conv                      [80, 160, 3, 2]               \n",
            "  2                -1  4    309120  models.common.C3                        [160, 160, 4]                 \n",
            "  3                -1  1    461440  models.common.Conv                      [160, 320, 3, 2]              \n",
            "  4                -1  8   2259200  models.common.C3                        [320, 320, 8]                 \n",
            "  5                -1  1   1844480  models.common.Conv                      [320, 640, 3, 2]              \n",
            "  6                -1 12  13125120  models.common.C3                        [640, 640, 12]                \n",
            "  7                -1  1   7375360  models.common.Conv                      [640, 1280, 3, 2]             \n",
            "  8                -1  4  19676160  models.common.C3                        [1280, 1280, 4]               \n",
            "  9                -1  1   4099840  models.common.SPPF                      [1280, 1280, 5]               \n",
            " 10                -1  1    820480  models.common.Conv                      [1280, 640, 1, 1]             \n",
            " 11                -1  1         0  torch.nn.modules.upsampling.Upsample    [None, 2, 'nearest']          \n",
            " 12           [-1, 6]  1         0  models.common.Concat                    [1]                           \n",
            " 13                -1  4   5332480  models.common.C3                        [1280, 640, 4, False]         \n",
            " 14                -1  1    205440  models.common.Conv                      [640, 320, 1, 1]              \n",
            " 15                -1  1         0  torch.nn.modules.upsampling.Upsample    [None, 2, 'nearest']          \n",
            " 16           [-1, 4]  1         0  models.common.Concat                    [1]                           \n",
            " 17                -1  4   1335040  models.common.C3                        [640, 320, 4, False]          \n",
            " 18                -1  1    922240  models.common.Conv                      [320, 320, 3, 2]              \n",
            " 19          [-1, 14]  1         0  models.common.Concat                    [1]                           \n",
            " 20                -1  4   4922880  models.common.C3                        [640, 640, 4, False]          \n",
            " 21                -1  1   3687680  models.common.Conv                      [640, 640, 3, 2]              \n",
            " 22          [-1, 10]  1         0  models.common.Concat                    [1]                           \n",
            " 23                -1  4  19676160  models.common.C3                        [1280, 1280, 4, False]        \n",
            " 24      [17, 20, 23]  1    255702  models.yolo.Detect                      [33, [[10, 13, 16, 30, 33, 23], [30, 61, 62, 45, 59, 119], [116, 90, 156, 198, 373, 326]], [320, 640, 1280]]\n",
            "Model summary: 445 layers, 86433142 parameters, 86433142 gradients, 205.3 GFLOPs\n",
            "\n",
            "Transferred 739/745 items from yolov5x.pt\n",
            "\u001b[34m\u001b[1mAMP: \u001b[0mchecks passed ✅\n",
            "\u001b[34m\u001b[1moptimizer:\u001b[0m SGD(lr=0.01) with parameter groups 123 weight(decay=0.0), 126 weight(decay=0.0005), 126 bias\n",
            "\u001b[34m\u001b[1malbumentations: \u001b[0mBlur(p=0.01, blur_limit=(3, 7)), MedianBlur(p=0.01, blur_limit=(3, 7)), ToGray(p=0.01), CLAHE(p=0.01, clip_limit=(1, 4.0), tile_grid_size=(8, 8))\n",
            "Traceback (most recent call last):\n",
            "  File \"/content/yolov5/yolov5/utils/dataloaders.py\", line 475, in __init__\n",
            "    raise FileNotFoundError(f'{prefix}{p} does not exist')\n",
            "FileNotFoundError: \u001b[34m\u001b[1mtrain: \u001b[0m/content/yolov5/yolov5/content/data/images/train does not exist\n",
            "\n",
            "The above exception was the direct cause of the following exception:\n",
            "\n",
            "Traceback (most recent call last):\n",
            "  File \"train.py\", line 633, in <module>\n",
            "    main(opt)\n",
            "  File \"train.py\", line 527, in main\n",
            "    train(opt.hyp, opt, device, callbacks)\n",
            "  File \"train.py\", line 187, in train\n",
            "    train_loader, dataset = create_dataloader(train_path,\n",
            "  File \"/content/yolov5/yolov5/utils/dataloaders.py\", line 123, in create_dataloader\n",
            "    dataset = LoadImagesAndLabels(\n",
            "  File \"/content/yolov5/yolov5/utils/dataloaders.py\", line 480, in __init__\n",
            "    raise Exception(f'{prefix}Error loading data from {path}: {e}\\n{HELP_URL}') from e\n",
            "Exception: \u001b[34m\u001b[1mtrain: \u001b[0mError loading data from /content/yolov5/yolov5/content/data/images/train: \u001b[34m\u001b[1mtrain: \u001b[0m/content/yolov5/yolov5/content/data/images/train does not exist\n",
            "See https://github.com/ultralytics/yolov5/wiki/Train-Custom-Data\n"
          ]
        }
      ]
    }
  ],
  "metadata": {
    "colab": {
      "provenance": [],
      "include_colab_link": true
    },
    "kernelspec": {
      "display_name": "Python 3",
      "name": "python3"
    },
    "accelerator": "GPU",
    "gpuClass": "standard"
  },
  "nbformat": 4,
  "nbformat_minor": 0
}